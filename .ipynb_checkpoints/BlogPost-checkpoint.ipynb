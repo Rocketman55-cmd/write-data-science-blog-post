{
 "cells": [
  {
   "cell_type": "markdown",
   "metadata": {},
   "source": [
    "# 1. Business Understanding "
   ]
  },
  {
   "cell_type": "markdown",
   "metadata": {},
   "source": [
    "I decided to explore the 2014-2016 Ebola Outbreak Dataset in light of the Coronavirus pandemic. I downloaded the dataset from Kaggle. The Ebola Outbreak started in 2013 and I wanted to see the correlation between location and number of suspected, probable, and confirmed cases and deaths. I will answer three questions from this dataset.\n",
    "\n",
    "They are the following:\n",
    "\n",
    "1. What year had the highest percentage for suspected, probable, and confirmed Ebola deaths?\n",
    "\n",
    "2. What were the increases in suspected, probable, and confirmed Ebola cases by year?\n",
    "\n",
    "3. Which country had the highest number of Ebola cases and Ebola deaths?"
   ]
  },
  {
   "cell_type": "markdown",
   "metadata": {},
   "source": [
    "# 2. Data Understanding "
   ]
  },
  {
   "cell_type": "code",
   "execution_count": 1,
   "metadata": {},
   "outputs": [],
   "source": [
    "# Import libraries\n",
    "import numpy as np\n",
    "import pandas as pd\n",
    "import matplotlib.pyplot as plt\n",
    "import re"
   ]
  },
  {
   "cell_type": "code",
   "execution_count": 2,
   "metadata": {},
   "outputs": [],
   "source": [
    "# Load datasets\n",
    "ebola = pd.read_csv('ebola_2014_2016_clean.csv')\n",
    "ebola_db = pd.read_csv('ebola_data_db_format.csv')"
   ]
  },
  {
   "cell_type": "code",
   "execution_count": 3,
   "metadata": {},
   "outputs": [
    {
     "data": {
      "text/html": [
       "<div>\n",
       "<style scoped>\n",
       "    .dataframe tbody tr th:only-of-type {\n",
       "        vertical-align: middle;\n",
       "    }\n",
       "\n",
       "    .dataframe tbody tr th {\n",
       "        vertical-align: top;\n",
       "    }\n",
       "\n",
       "    .dataframe thead th {\n",
       "        text-align: right;\n",
       "    }\n",
       "</style>\n",
       "<table border=\"1\" class=\"dataframe\">\n",
       "  <thead>\n",
       "    <tr style=\"text-align: right;\">\n",
       "      <th></th>\n",
       "      <th>Country</th>\n",
       "      <th>Date</th>\n",
       "      <th>No. of suspected cases</th>\n",
       "      <th>No. of probable cases</th>\n",
       "      <th>No. of confirmed cases</th>\n",
       "      <th>No. of confirmed, probable and suspected cases</th>\n",
       "      <th>No. of suspected deaths</th>\n",
       "      <th>No. of probable deaths</th>\n",
       "      <th>No. of confirmed deaths</th>\n",
       "      <th>No. of confirmed, probable and suspected deaths</th>\n",
       "    </tr>\n",
       "  </thead>\n",
       "  <tbody>\n",
       "    <tr>\n",
       "      <th>0</th>\n",
       "      <td>Guinea</td>\n",
       "      <td>2014-08-29</td>\n",
       "      <td>25.0</td>\n",
       "      <td>141.0</td>\n",
       "      <td>482.0</td>\n",
       "      <td>648.0</td>\n",
       "      <td>2.0</td>\n",
       "      <td>141.0</td>\n",
       "      <td>287.0</td>\n",
       "      <td>430.0</td>\n",
       "    </tr>\n",
       "    <tr>\n",
       "      <th>1</th>\n",
       "      <td>Nigeria</td>\n",
       "      <td>2014-08-29</td>\n",
       "      <td>3.0</td>\n",
       "      <td>1.0</td>\n",
       "      <td>15.0</td>\n",
       "      <td>19.0</td>\n",
       "      <td>0.0</td>\n",
       "      <td>1.0</td>\n",
       "      <td>6.0</td>\n",
       "      <td>7.0</td>\n",
       "    </tr>\n",
       "    <tr>\n",
       "      <th>2</th>\n",
       "      <td>Sierra Leone</td>\n",
       "      <td>2014-08-29</td>\n",
       "      <td>54.0</td>\n",
       "      <td>37.0</td>\n",
       "      <td>935.0</td>\n",
       "      <td>1026.0</td>\n",
       "      <td>8.0</td>\n",
       "      <td>34.0</td>\n",
       "      <td>380.0</td>\n",
       "      <td>422.0</td>\n",
       "    </tr>\n",
       "    <tr>\n",
       "      <th>3</th>\n",
       "      <td>Liberia</td>\n",
       "      <td>2014-08-29</td>\n",
       "      <td>382.0</td>\n",
       "      <td>674.0</td>\n",
       "      <td>322.0</td>\n",
       "      <td>1378.0</td>\n",
       "      <td>168.0</td>\n",
       "      <td>301.0</td>\n",
       "      <td>225.0</td>\n",
       "      <td>694.0</td>\n",
       "    </tr>\n",
       "    <tr>\n",
       "      <th>4</th>\n",
       "      <td>Sierra Leone</td>\n",
       "      <td>2014-09-05</td>\n",
       "      <td>78.0</td>\n",
       "      <td>37.0</td>\n",
       "      <td>1146.0</td>\n",
       "      <td>1261.0</td>\n",
       "      <td>11.0</td>\n",
       "      <td>37.0</td>\n",
       "      <td>443.0</td>\n",
       "      <td>491.0</td>\n",
       "    </tr>\n",
       "    <tr>\n",
       "      <th>5</th>\n",
       "      <td>Nigeria</td>\n",
       "      <td>2014-09-05</td>\n",
       "      <td>3.0</td>\n",
       "      <td>1.0</td>\n",
       "      <td>18.0</td>\n",
       "      <td>22.0</td>\n",
       "      <td>0.0</td>\n",
       "      <td>1.0</td>\n",
       "      <td>7.0</td>\n",
       "      <td>8.0</td>\n",
       "    </tr>\n",
       "    <tr>\n",
       "      <th>6</th>\n",
       "      <td>Liberia</td>\n",
       "      <td>2014-09-05</td>\n",
       "      <td>369.0</td>\n",
       "      <td>888.0</td>\n",
       "      <td>614.0</td>\n",
       "      <td>1871.0</td>\n",
       "      <td>257.0</td>\n",
       "      <td>401.0</td>\n",
       "      <td>431.0</td>\n",
       "      <td>1089.0</td>\n",
       "    </tr>\n",
       "    <tr>\n",
       "      <th>7</th>\n",
       "      <td>Guinea</td>\n",
       "      <td>2014-09-05</td>\n",
       "      <td>56.0</td>\n",
       "      <td>152.0</td>\n",
       "      <td>604.0</td>\n",
       "      <td>812.0</td>\n",
       "      <td>3.0</td>\n",
       "      <td>152.0</td>\n",
       "      <td>362.0</td>\n",
       "      <td>517.0</td>\n",
       "    </tr>\n",
       "    <tr>\n",
       "      <th>8</th>\n",
       "      <td>Senegal</td>\n",
       "      <td>2014-09-05</td>\n",
       "      <td>NaN</td>\n",
       "      <td>NaN</td>\n",
       "      <td>1.0</td>\n",
       "      <td>1.0</td>\n",
       "      <td>NaN</td>\n",
       "      <td>NaN</td>\n",
       "      <td>0.0</td>\n",
       "      <td>0.0</td>\n",
       "    </tr>\n",
       "    <tr>\n",
       "      <th>9</th>\n",
       "      <td>Senegal</td>\n",
       "      <td>2014-09-08</td>\n",
       "      <td>2.0</td>\n",
       "      <td>0.0</td>\n",
       "      <td>1.0</td>\n",
       "      <td>3.0</td>\n",
       "      <td>0.0</td>\n",
       "      <td>0.0</td>\n",
       "      <td>0.0</td>\n",
       "      <td>0.0</td>\n",
       "    </tr>\n",
       "  </tbody>\n",
       "</table>\n",
       "</div>"
      ],
      "text/plain": [
       "        Country        Date  No. of suspected cases  No. of probable cases  \\\n",
       "0        Guinea  2014-08-29                    25.0                  141.0   \n",
       "1       Nigeria  2014-08-29                     3.0                    1.0   \n",
       "2  Sierra Leone  2014-08-29                    54.0                   37.0   \n",
       "3       Liberia  2014-08-29                   382.0                  674.0   \n",
       "4  Sierra Leone  2014-09-05                    78.0                   37.0   \n",
       "5       Nigeria  2014-09-05                     3.0                    1.0   \n",
       "6       Liberia  2014-09-05                   369.0                  888.0   \n",
       "7        Guinea  2014-09-05                    56.0                  152.0   \n",
       "8       Senegal  2014-09-05                     NaN                    NaN   \n",
       "9       Senegal  2014-09-08                     2.0                    0.0   \n",
       "\n",
       "   No. of confirmed cases  No. of confirmed, probable and suspected cases  \\\n",
       "0                   482.0                                           648.0   \n",
       "1                    15.0                                            19.0   \n",
       "2                   935.0                                          1026.0   \n",
       "3                   322.0                                          1378.0   \n",
       "4                  1146.0                                          1261.0   \n",
       "5                    18.0                                            22.0   \n",
       "6                   614.0                                          1871.0   \n",
       "7                   604.0                                           812.0   \n",
       "8                     1.0                                             1.0   \n",
       "9                     1.0                                             3.0   \n",
       "\n",
       "   No. of suspected deaths  No. of probable deaths  No. of confirmed deaths  \\\n",
       "0                      2.0                   141.0                    287.0   \n",
       "1                      0.0                     1.0                      6.0   \n",
       "2                      8.0                    34.0                    380.0   \n",
       "3                    168.0                   301.0                    225.0   \n",
       "4                     11.0                    37.0                    443.0   \n",
       "5                      0.0                     1.0                      7.0   \n",
       "6                    257.0                   401.0                    431.0   \n",
       "7                      3.0                   152.0                    362.0   \n",
       "8                      NaN                     NaN                      0.0   \n",
       "9                      0.0                     0.0                      0.0   \n",
       "\n",
       "   No. of confirmed, probable and suspected deaths  \n",
       "0                                            430.0  \n",
       "1                                              7.0  \n",
       "2                                            422.0  \n",
       "3                                            694.0  \n",
       "4                                            491.0  \n",
       "5                                              8.0  \n",
       "6                                           1089.0  \n",
       "7                                            517.0  \n",
       "8                                              0.0  \n",
       "9                                              0.0  "
      ]
     },
     "execution_count": 3,
     "metadata": {},
     "output_type": "execute_result"
    }
   ],
   "source": [
    "ebola.head(10)"
   ]
  },
  {
   "cell_type": "code",
   "execution_count": 4,
   "metadata": {},
   "outputs": [
    {
     "data": {
      "text/html": [
       "<div>\n",
       "<style scoped>\n",
       "    .dataframe tbody tr th:only-of-type {\n",
       "        vertical-align: middle;\n",
       "    }\n",
       "\n",
       "    .dataframe tbody tr th {\n",
       "        vertical-align: top;\n",
       "    }\n",
       "\n",
       "    .dataframe thead th {\n",
       "        text-align: right;\n",
       "    }\n",
       "</style>\n",
       "<table border=\"1\" class=\"dataframe\">\n",
       "  <thead>\n",
       "    <tr style=\"text-align: right;\">\n",
       "      <th></th>\n",
       "      <th>Country</th>\n",
       "      <th>Date</th>\n",
       "      <th>No. of suspected cases</th>\n",
       "      <th>No. of probable cases</th>\n",
       "      <th>No. of confirmed cases</th>\n",
       "      <th>No. of confirmed, probable and suspected cases</th>\n",
       "      <th>No. of suspected deaths</th>\n",
       "      <th>No. of probable deaths</th>\n",
       "      <th>No. of confirmed deaths</th>\n",
       "      <th>No. of confirmed, probable and suspected deaths</th>\n",
       "    </tr>\n",
       "  </thead>\n",
       "  <tbody>\n",
       "    <tr>\n",
       "      <th>2475</th>\n",
       "      <td>Sierra Leone</td>\n",
       "      <td>2016-03-23</td>\n",
       "      <td>5131.0</td>\n",
       "      <td>287.0</td>\n",
       "      <td>8704.0</td>\n",
       "      <td>14122.0</td>\n",
       "      <td>158.0</td>\n",
       "      <td>208.0</td>\n",
       "      <td>3589.0</td>\n",
       "      <td>3955.0</td>\n",
       "    </tr>\n",
       "    <tr>\n",
       "      <th>2476</th>\n",
       "      <td>Senegal</td>\n",
       "      <td>2016-03-23</td>\n",
       "      <td>0.0</td>\n",
       "      <td>0.0</td>\n",
       "      <td>1.0</td>\n",
       "      <td>1.0</td>\n",
       "      <td>0.0</td>\n",
       "      <td>0.0</td>\n",
       "      <td>0.0</td>\n",
       "      <td>0.0</td>\n",
       "    </tr>\n",
       "    <tr>\n",
       "      <th>2477</th>\n",
       "      <td>Mali</td>\n",
       "      <td>2016-03-23</td>\n",
       "      <td>0.0</td>\n",
       "      <td>1.0</td>\n",
       "      <td>7.0</td>\n",
       "      <td>8.0</td>\n",
       "      <td>NaN</td>\n",
       "      <td>NaN</td>\n",
       "      <td>NaN</td>\n",
       "      <td>6.0</td>\n",
       "    </tr>\n",
       "    <tr>\n",
       "      <th>2478</th>\n",
       "      <td>United Kingdom</td>\n",
       "      <td>2016-03-23</td>\n",
       "      <td>0.0</td>\n",
       "      <td>0.0</td>\n",
       "      <td>1.0</td>\n",
       "      <td>1.0</td>\n",
       "      <td>NaN</td>\n",
       "      <td>NaN</td>\n",
       "      <td>NaN</td>\n",
       "      <td>0.0</td>\n",
       "    </tr>\n",
       "    <tr>\n",
       "      <th>2479</th>\n",
       "      <td>Liberia</td>\n",
       "      <td>2016-03-23</td>\n",
       "      <td>NaN</td>\n",
       "      <td>NaN</td>\n",
       "      <td>9.0</td>\n",
       "      <td>9.0</td>\n",
       "      <td>NaN</td>\n",
       "      <td>NaN</td>\n",
       "      <td>3.0</td>\n",
       "      <td>3.0</td>\n",
       "    </tr>\n",
       "    <tr>\n",
       "      <th>2480</th>\n",
       "      <td>Liberia</td>\n",
       "      <td>2016-03-23</td>\n",
       "      <td>5636.0</td>\n",
       "      <td>1879.0</td>\n",
       "      <td>3151.0</td>\n",
       "      <td>10666.0</td>\n",
       "      <td>NaN</td>\n",
       "      <td>NaN</td>\n",
       "      <td>NaN</td>\n",
       "      <td>4806.0</td>\n",
       "    </tr>\n",
       "    <tr>\n",
       "      <th>2481</th>\n",
       "      <td>Italy</td>\n",
       "      <td>2016-03-23</td>\n",
       "      <td>0.0</td>\n",
       "      <td>0.0</td>\n",
       "      <td>1.0</td>\n",
       "      <td>1.0</td>\n",
       "      <td>NaN</td>\n",
       "      <td>NaN</td>\n",
       "      <td>NaN</td>\n",
       "      <td>0.0</td>\n",
       "    </tr>\n",
       "    <tr>\n",
       "      <th>2482</th>\n",
       "      <td>Liberia</td>\n",
       "      <td>2016-03-23</td>\n",
       "      <td>0.0</td>\n",
       "      <td>3.0</td>\n",
       "      <td>2.0</td>\n",
       "      <td>5.0</td>\n",
       "      <td>NaN</td>\n",
       "      <td>3.0</td>\n",
       "      <td>1.0</td>\n",
       "      <td>4.0</td>\n",
       "    </tr>\n",
       "    <tr>\n",
       "      <th>2483</th>\n",
       "      <td>Nigeria</td>\n",
       "      <td>2016-03-23</td>\n",
       "      <td>0.0</td>\n",
       "      <td>1.0</td>\n",
       "      <td>19.0</td>\n",
       "      <td>20.0</td>\n",
       "      <td>0.0</td>\n",
       "      <td>1.0</td>\n",
       "      <td>7.0</td>\n",
       "      <td>8.0</td>\n",
       "    </tr>\n",
       "    <tr>\n",
       "      <th>2484</th>\n",
       "      <td>United States of America</td>\n",
       "      <td>2016-03-23</td>\n",
       "      <td>0.0</td>\n",
       "      <td>0.0</td>\n",
       "      <td>4.0</td>\n",
       "      <td>4.0</td>\n",
       "      <td>0.0</td>\n",
       "      <td>0.0</td>\n",
       "      <td>1.0</td>\n",
       "      <td>1.0</td>\n",
       "    </tr>\n",
       "  </tbody>\n",
       "</table>\n",
       "</div>"
      ],
      "text/plain": [
       "                       Country        Date  No. of suspected cases  \\\n",
       "2475              Sierra Leone  2016-03-23                  5131.0   \n",
       "2476                   Senegal  2016-03-23                     0.0   \n",
       "2477                      Mali  2016-03-23                     0.0   \n",
       "2478            United Kingdom  2016-03-23                     0.0   \n",
       "2479                   Liberia  2016-03-23                     NaN   \n",
       "2480                   Liberia  2016-03-23                  5636.0   \n",
       "2481                     Italy  2016-03-23                     0.0   \n",
       "2482                   Liberia  2016-03-23                     0.0   \n",
       "2483                   Nigeria  2016-03-23                     0.0   \n",
       "2484  United States of America  2016-03-23                     0.0   \n",
       "\n",
       "      No. of probable cases  No. of confirmed cases  \\\n",
       "2475                  287.0                  8704.0   \n",
       "2476                    0.0                     1.0   \n",
       "2477                    1.0                     7.0   \n",
       "2478                    0.0                     1.0   \n",
       "2479                    NaN                     9.0   \n",
       "2480                 1879.0                  3151.0   \n",
       "2481                    0.0                     1.0   \n",
       "2482                    3.0                     2.0   \n",
       "2483                    1.0                    19.0   \n",
       "2484                    0.0                     4.0   \n",
       "\n",
       "      No. of confirmed, probable and suspected cases  No. of suspected deaths  \\\n",
       "2475                                         14122.0                    158.0   \n",
       "2476                                             1.0                      0.0   \n",
       "2477                                             8.0                      NaN   \n",
       "2478                                             1.0                      NaN   \n",
       "2479                                             9.0                      NaN   \n",
       "2480                                         10666.0                      NaN   \n",
       "2481                                             1.0                      NaN   \n",
       "2482                                             5.0                      NaN   \n",
       "2483                                            20.0                      0.0   \n",
       "2484                                             4.0                      0.0   \n",
       "\n",
       "      No. of probable deaths  No. of confirmed deaths  \\\n",
       "2475                   208.0                   3589.0   \n",
       "2476                     0.0                      0.0   \n",
       "2477                     NaN                      NaN   \n",
       "2478                     NaN                      NaN   \n",
       "2479                     NaN                      3.0   \n",
       "2480                     NaN                      NaN   \n",
       "2481                     NaN                      NaN   \n",
       "2482                     3.0                      1.0   \n",
       "2483                     1.0                      7.0   \n",
       "2484                     0.0                      1.0   \n",
       "\n",
       "      No. of confirmed, probable and suspected deaths  \n",
       "2475                                           3955.0  \n",
       "2476                                              0.0  \n",
       "2477                                              6.0  \n",
       "2478                                              0.0  \n",
       "2479                                              3.0  \n",
       "2480                                           4806.0  \n",
       "2481                                              0.0  \n",
       "2482                                              4.0  \n",
       "2483                                              8.0  \n",
       "2484                                              1.0  "
      ]
     },
     "execution_count": 4,
     "metadata": {},
     "output_type": "execute_result"
    }
   ],
   "source": [
    "ebola.tail(10)"
   ]
  },
  {
   "cell_type": "code",
   "execution_count": 5,
   "metadata": {},
   "outputs": [
    {
     "name": "stdout",
     "output_type": "stream",
     "text": [
      "<class 'pandas.core.frame.DataFrame'>\n",
      "RangeIndex: 2485 entries, 0 to 2484\n",
      "Data columns (total 10 columns):\n",
      " #   Column                                           Non-Null Count  Dtype  \n",
      "---  ------                                           --------------  -----  \n",
      " 0   Country                                          2485 non-null   object \n",
      " 1   Date                                             2485 non-null   object \n",
      " 2   No. of suspected cases                           2366 non-null   float64\n",
      " 3   No. of probable cases                            2436 non-null   float64\n",
      " 4   No. of confirmed cases                           2484 non-null   float64\n",
      " 5   No. of confirmed, probable and suspected cases   2477 non-null   float64\n",
      " 6   No. of suspected deaths                          1308 non-null   float64\n",
      " 7   No. of probable deaths                           1526 non-null   float64\n",
      " 8   No. of confirmed deaths                          1648 non-null   float64\n",
      " 9   No. of confirmed, probable and suspected deaths  2485 non-null   float64\n",
      "dtypes: float64(8), object(2)\n",
      "memory usage: 194.3+ KB\n"
     ]
    }
   ],
   "source": [
    "ebola.info(10)"
   ]
  },
  {
   "cell_type": "code",
   "execution_count": 6,
   "metadata": {},
   "outputs": [
    {
     "data": {
      "text/html": [
       "<div>\n",
       "<style scoped>\n",
       "    .dataframe tbody tr th:only-of-type {\n",
       "        vertical-align: middle;\n",
       "    }\n",
       "\n",
       "    .dataframe tbody tr th {\n",
       "        vertical-align: top;\n",
       "    }\n",
       "\n",
       "    .dataframe thead th {\n",
       "        text-align: right;\n",
       "    }\n",
       "</style>\n",
       "<table border=\"1\" class=\"dataframe\">\n",
       "  <thead>\n",
       "    <tr style=\"text-align: right;\">\n",
       "      <th></th>\n",
       "      <th>Indicator</th>\n",
       "      <th>Country</th>\n",
       "      <th>Date</th>\n",
       "      <th>value</th>\n",
       "    </tr>\n",
       "  </thead>\n",
       "  <tbody>\n",
       "    <tr>\n",
       "      <th>0</th>\n",
       "      <td>Cumulative number of confirmed, probable and s...</td>\n",
       "      <td>Guinea</td>\n",
       "      <td>2015-03-10</td>\n",
       "      <td>3285.0</td>\n",
       "    </tr>\n",
       "    <tr>\n",
       "      <th>1</th>\n",
       "      <td>Cumulative number of confirmed Ebola cases</td>\n",
       "      <td>Guinea</td>\n",
       "      <td>2015-03-10</td>\n",
       "      <td>2871.0</td>\n",
       "    </tr>\n",
       "    <tr>\n",
       "      <th>2</th>\n",
       "      <td>Cumulative number of probable Ebola cases</td>\n",
       "      <td>Guinea</td>\n",
       "      <td>2015-03-10</td>\n",
       "      <td>392.0</td>\n",
       "    </tr>\n",
       "    <tr>\n",
       "      <th>3</th>\n",
       "      <td>Cumulative number of suspected Ebola cases</td>\n",
       "      <td>Guinea</td>\n",
       "      <td>2015-03-10</td>\n",
       "      <td>22.0</td>\n",
       "    </tr>\n",
       "    <tr>\n",
       "      <th>4</th>\n",
       "      <td>Cumulative number of confirmed, probable and s...</td>\n",
       "      <td>Guinea</td>\n",
       "      <td>2015-03-10</td>\n",
       "      <td>2170.0</td>\n",
       "    </tr>\n",
       "    <tr>\n",
       "      <th>5</th>\n",
       "      <td>Cumulative number of confirmed Ebola deaths</td>\n",
       "      <td>Guinea</td>\n",
       "      <td>2015-03-10</td>\n",
       "      <td>1778.0</td>\n",
       "    </tr>\n",
       "    <tr>\n",
       "      <th>6</th>\n",
       "      <td>Cumulative number of probable Ebola deaths</td>\n",
       "      <td>Guinea</td>\n",
       "      <td>2015-03-10</td>\n",
       "      <td>392.0</td>\n",
       "    </tr>\n",
       "    <tr>\n",
       "      <th>7</th>\n",
       "      <td>Cumulative number of confirmed, probable and s...</td>\n",
       "      <td>Liberia</td>\n",
       "      <td>2015-03-10</td>\n",
       "      <td>9343.0</td>\n",
       "    </tr>\n",
       "    <tr>\n",
       "      <th>8</th>\n",
       "      <td>Cumulative number of confirmed Ebola cases</td>\n",
       "      <td>Liberia</td>\n",
       "      <td>2015-03-10</td>\n",
       "      <td>3150.0</td>\n",
       "    </tr>\n",
       "    <tr>\n",
       "      <th>9</th>\n",
       "      <td>Cumulative number of probable Ebola cases</td>\n",
       "      <td>Liberia</td>\n",
       "      <td>2015-03-10</td>\n",
       "      <td>1879.0</td>\n",
       "    </tr>\n",
       "  </tbody>\n",
       "</table>\n",
       "</div>"
      ],
      "text/plain": [
       "                                           Indicator  Country        Date  \\\n",
       "0  Cumulative number of confirmed, probable and s...   Guinea  2015-03-10   \n",
       "1         Cumulative number of confirmed Ebola cases   Guinea  2015-03-10   \n",
       "2          Cumulative number of probable Ebola cases   Guinea  2015-03-10   \n",
       "3         Cumulative number of suspected Ebola cases   Guinea  2015-03-10   \n",
       "4  Cumulative number of confirmed, probable and s...   Guinea  2015-03-10   \n",
       "5        Cumulative number of confirmed Ebola deaths   Guinea  2015-03-10   \n",
       "6         Cumulative number of probable Ebola deaths   Guinea  2015-03-10   \n",
       "7  Cumulative number of confirmed, probable and s...  Liberia  2015-03-10   \n",
       "8         Cumulative number of confirmed Ebola cases  Liberia  2015-03-10   \n",
       "9          Cumulative number of probable Ebola cases  Liberia  2015-03-10   \n",
       "\n",
       "    value  \n",
       "0  3285.0  \n",
       "1  2871.0  \n",
       "2   392.0  \n",
       "3    22.0  \n",
       "4  2170.0  \n",
       "5  1778.0  \n",
       "6   392.0  \n",
       "7  9343.0  \n",
       "8  3150.0  \n",
       "9  1879.0  "
      ]
     },
     "execution_count": 6,
     "metadata": {},
     "output_type": "execute_result"
    }
   ],
   "source": [
    "ebola_db.head(10)"
   ]
  },
  {
   "cell_type": "code",
   "execution_count": 7,
   "metadata": {},
   "outputs": [
    {
     "data": {
      "text/html": [
       "<div>\n",
       "<style scoped>\n",
       "    .dataframe tbody tr th:only-of-type {\n",
       "        vertical-align: middle;\n",
       "    }\n",
       "\n",
       "    .dataframe tbody tr th {\n",
       "        vertical-align: top;\n",
       "    }\n",
       "\n",
       "    .dataframe thead th {\n",
       "        text-align: right;\n",
       "    }\n",
       "</style>\n",
       "<table border=\"1\" class=\"dataframe\">\n",
       "  <thead>\n",
       "    <tr style=\"text-align: right;\">\n",
       "      <th></th>\n",
       "      <th>Indicator</th>\n",
       "      <th>Country</th>\n",
       "      <th>Date</th>\n",
       "      <th>value</th>\n",
       "    </tr>\n",
       "  </thead>\n",
       "  <tbody>\n",
       "    <tr>\n",
       "      <th>17575</th>\n",
       "      <td>Cumulative number of suspected Ebola deaths</td>\n",
       "      <td>Senegal</td>\n",
       "      <td>2016-03-23</td>\n",
       "      <td>0.0</td>\n",
       "    </tr>\n",
       "    <tr>\n",
       "      <th>17576</th>\n",
       "      <td>Cumulative number of confirmed, probable and s...</td>\n",
       "      <td>Senegal</td>\n",
       "      <td>2016-03-23</td>\n",
       "      <td>0.0</td>\n",
       "    </tr>\n",
       "    <tr>\n",
       "      <th>17577</th>\n",
       "      <td>Cumulative number of confirmed Ebola deaths</td>\n",
       "      <td>Spain</td>\n",
       "      <td>2016-03-23</td>\n",
       "      <td>0.0</td>\n",
       "    </tr>\n",
       "    <tr>\n",
       "      <th>17578</th>\n",
       "      <td>Cumulative number of probable Ebola deaths</td>\n",
       "      <td>Spain</td>\n",
       "      <td>2016-03-23</td>\n",
       "      <td>0.0</td>\n",
       "    </tr>\n",
       "    <tr>\n",
       "      <th>17579</th>\n",
       "      <td>Cumulative number of suspected Ebola deaths</td>\n",
       "      <td>Spain</td>\n",
       "      <td>2016-03-23</td>\n",
       "      <td>0.0</td>\n",
       "    </tr>\n",
       "    <tr>\n",
       "      <th>17580</th>\n",
       "      <td>Cumulative number of confirmed, probable and s...</td>\n",
       "      <td>Spain</td>\n",
       "      <td>2016-03-23</td>\n",
       "      <td>0.0</td>\n",
       "    </tr>\n",
       "    <tr>\n",
       "      <th>17581</th>\n",
       "      <td>Cumulative number of confirmed Ebola deaths</td>\n",
       "      <td>United States of America</td>\n",
       "      <td>2016-03-23</td>\n",
       "      <td>1.0</td>\n",
       "    </tr>\n",
       "    <tr>\n",
       "      <th>17582</th>\n",
       "      <td>Cumulative number of probable Ebola deaths</td>\n",
       "      <td>United States of America</td>\n",
       "      <td>2016-03-23</td>\n",
       "      <td>0.0</td>\n",
       "    </tr>\n",
       "    <tr>\n",
       "      <th>17583</th>\n",
       "      <td>Cumulative number of suspected Ebola deaths</td>\n",
       "      <td>United States of America</td>\n",
       "      <td>2016-03-23</td>\n",
       "      <td>0.0</td>\n",
       "    </tr>\n",
       "    <tr>\n",
       "      <th>17584</th>\n",
       "      <td>Cumulative number of confirmed, probable and s...</td>\n",
       "      <td>United States of America</td>\n",
       "      <td>2016-03-23</td>\n",
       "      <td>1.0</td>\n",
       "    </tr>\n",
       "  </tbody>\n",
       "</table>\n",
       "</div>"
      ],
      "text/plain": [
       "                                               Indicator  \\\n",
       "17575        Cumulative number of suspected Ebola deaths   \n",
       "17576  Cumulative number of confirmed, probable and s...   \n",
       "17577        Cumulative number of confirmed Ebola deaths   \n",
       "17578         Cumulative number of probable Ebola deaths   \n",
       "17579        Cumulative number of suspected Ebola deaths   \n",
       "17580  Cumulative number of confirmed, probable and s...   \n",
       "17581        Cumulative number of confirmed Ebola deaths   \n",
       "17582         Cumulative number of probable Ebola deaths   \n",
       "17583        Cumulative number of suspected Ebola deaths   \n",
       "17584  Cumulative number of confirmed, probable and s...   \n",
       "\n",
       "                        Country        Date  value  \n",
       "17575                   Senegal  2016-03-23    0.0  \n",
       "17576                   Senegal  2016-03-23    0.0  \n",
       "17577                     Spain  2016-03-23    0.0  \n",
       "17578                     Spain  2016-03-23    0.0  \n",
       "17579                     Spain  2016-03-23    0.0  \n",
       "17580                     Spain  2016-03-23    0.0  \n",
       "17581  United States of America  2016-03-23    1.0  \n",
       "17582  United States of America  2016-03-23    0.0  \n",
       "17583  United States of America  2016-03-23    0.0  \n",
       "17584  United States of America  2016-03-23    1.0  "
      ]
     },
     "execution_count": 7,
     "metadata": {},
     "output_type": "execute_result"
    }
   ],
   "source": [
    "ebola_db.tail(10)"
   ]
  },
  {
   "cell_type": "code",
   "execution_count": 8,
   "metadata": {},
   "outputs": [
    {
     "name": "stdout",
     "output_type": "stream",
     "text": [
      "<class 'pandas.core.frame.DataFrame'>\n",
      "RangeIndex: 17585 entries, 0 to 17584\n",
      "Data columns (total 4 columns):\n",
      " #   Column     Non-Null Count  Dtype  \n",
      "---  ------     --------------  -----  \n",
      " 0   Indicator  17585 non-null  object \n",
      " 1   Country    17585 non-null  object \n",
      " 2   Date       17585 non-null  object \n",
      " 3   value      17585 non-null  float64\n",
      "dtypes: float64(1), object(3)\n",
      "memory usage: 549.7+ KB\n"
     ]
    }
   ],
   "source": [
    "ebola_db.info()"
   ]
  },
  {
   "cell_type": "code",
   "execution_count": 9,
   "metadata": {},
   "outputs": [
    {
     "data": {
      "text/plain": [
       "Country                                               0\n",
       "Date                                                  0\n",
       "No. of suspected cases                              119\n",
       "No. of probable cases                                49\n",
       "No. of confirmed cases                                1\n",
       "No. of confirmed, probable and suspected cases        8\n",
       "No. of suspected deaths                            1177\n",
       "No. of probable deaths                              959\n",
       "No. of confirmed deaths                             837\n",
       "No. of confirmed, probable and suspected deaths       0\n",
       "dtype: int64"
      ]
     },
     "execution_count": 9,
     "metadata": {},
     "output_type": "execute_result"
    }
   ],
   "source": [
    "ebola.isnull().sum()"
   ]
  },
  {
   "cell_type": "code",
   "execution_count": 10,
   "metadata": {},
   "outputs": [
    {
     "data": {
      "text/plain": [
       "Indicator    0\n",
       "Country      0\n",
       "Date         0\n",
       "value        0\n",
       "dtype: int64"
      ]
     },
     "execution_count": 10,
     "metadata": {},
     "output_type": "execute_result"
    }
   ],
   "source": [
    "ebola_db.isnull().sum()"
   ]
  },
  {
   "cell_type": "code",
   "execution_count": 11,
   "metadata": {},
   "outputs": [
    {
     "data": {
      "text/plain": [
       "Liberia                     365\n",
       "Sierra Leone                259\n",
       "Guinea                      259\n",
       "Nigeria                     255\n",
       "Senegal                     254\n",
       "United States of America    245\n",
       "Mali                        243\n",
       "Spain                       243\n",
       "United Kingdom              221\n",
       "Italy                       141\n",
       "Name: Country, dtype: int64"
      ]
     },
     "execution_count": 11,
     "metadata": {},
     "output_type": "execute_result"
    }
   ],
   "source": [
    "ebola['Country'].value_counts()"
   ]
  },
  {
   "cell_type": "markdown",
   "metadata": {},
   "source": [
    "# 3. Data Preparation "
   ]
  },
  {
   "cell_type": "code",
   "execution_count": 12,
   "metadata": {},
   "outputs": [],
   "source": [
    "# Fill in missing data with zeros, because the missing data signifies zero cases or deaths\n",
    "ebola.fillna(0, inplace = True)\n",
    "ebola_db.fillna(0, inplace = True)"
   ]
  },
  {
   "cell_type": "code",
   "execution_count": 13,
   "metadata": {},
   "outputs": [],
   "source": [
    "# Sort the file by earliest dates to order the data for readability \n",
    "ebola_db = ebola_db.sort_values(by = ['Date'])"
   ]
  },
  {
   "cell_type": "code",
   "execution_count": 14,
   "metadata": {},
   "outputs": [
    {
     "data": {
      "text/plain": [
       "Liberia                     365\n",
       "Sierra Leone                259\n",
       "Guinea                      259\n",
       "Nigeria                     255\n",
       "Senegal                     254\n",
       "United States of America    245\n",
       "Mali                        243\n",
       "Spain                       243\n",
       "United Kingdom              221\n",
       "Italy                       141\n",
       "Name: Country, dtype: int64"
      ]
     },
     "execution_count": 14,
     "metadata": {},
     "output_type": "execute_result"
    }
   ],
   "source": [
    "# See what countries are in the dataset\n",
    "ebola['Country'].value_counts()"
   ]
  },
  {
   "cell_type": "code",
   "execution_count": 15,
   "metadata": {},
   "outputs": [
    {
     "name": "stderr",
     "output_type": "stream",
     "text": [
      "C:\\Users\\joshu\\Anaconda3\\lib\\site-packages\\ipykernel_launcher.py:6: SettingWithCopyWarning: \n",
      "A value is trying to be set on a copy of a slice from a DataFrame\n",
      "\n",
      "See the caveats in the documentation: https://pandas.pydata.org/pandas-docs/stable/user_guide/indexing.html#returning-a-view-versus-a-copy\n",
      "  \n",
      "C:\\Users\\joshu\\Anaconda3\\lib\\site-packages\\ipykernel_launcher.py:4: SettingWithCopyWarning: \n",
      "A value is trying to be set on a copy of a slice from a DataFrame\n",
      "\n",
      "See the caveats in the documentation: https://pandas.pydata.org/pandas-docs/stable/user_guide/indexing.html#returning-a-view-versus-a-copy\n",
      "  after removing the cwd from sys.path.\n"
     ]
    }
   ],
   "source": [
    "# Fix the naming of some countries in the dataset\n",
    "for index, row in ebola_db.iterrows():\n",
    "    if ebola_db['Country'][index] == 'Guinea 2':\n",
    "        ebola_db['Country'][index] = 'Guinea'\n",
    "    if ebola_db['Country'][index] == 'Liberia 2':\n",
    "        ebola_db['Country'][index] = 'Liberia'"
   ]
  },
  {
   "cell_type": "code",
   "execution_count": 16,
   "metadata": {},
   "outputs": [],
   "source": [
    "# Count the necessary values for the first question\n",
    "year_2014 = 0\n",
    "year_2015 = 0\n",
    "year_2016 = 0\n",
    "month = 0\n",
    "day = 0\n",
    "year = 0\n",
    "# Go through the ebola csv file and find number of Ebola deaths\n",
    "for index, row in ebola.iterrows():\n",
    "    date = ebola['Date'][index]\n",
    "    date = re.split('[/-]', date)\n",
    "    new_year = int(date[0])\n",
    "    new_month = int(date[1])\n",
    "    new_day = int(date[2])\n",
    "    if year == 0:\n",
    "        year = new_year\n",
    "    if new_month > month:\n",
    "        month = new_month\n",
    "        day = new_day\n",
    "    if new_day > day:\n",
    "        day = new_day\n",
    "    if new_year > year:\n",
    "        # This is for the year 2014\n",
    "        if year == 2014:\n",
    "            str_year = str(year)\n",
    "            str_month = str(month)\n",
    "            str_day = str(day)\n",
    "            date = str_year + '-' +str_month +  '-' + str_day\n",
    "            find_date = ebola[ebola['Date'] == date]\n",
    "            year_2014 = find_date['No. of confirmed, probable and suspected deaths'].sum()\n",
    "        # This is for the year 2015\n",
    "        if year == 2015:\n",
    "            str_year = str(year)\n",
    "            str_month = str(month)\n",
    "            str_day = str(day)\n",
    "            date = str_year + '-' +str_month +  '-' + str_day\n",
    "            find_date = ebola[ebola['Date'] == date]\n",
    "            year_2015 = find_date['No. of confirmed, probable and suspected deaths'].sum()\n",
    "        year = new_year\n",
    "        month = new_month\n",
    "        day = new_day\n",
    "        # This is for the year 2016\n",
    "        if year == 2016:\n",
    "            str_year = str(year)\n",
    "            str_month = str(month)\n",
    "            str_day = str(day)\n",
    "            date = str_year + '-' + '03' +  '-' + str_day\n",
    "            find_date = ebola[ebola['Date'] == date]\n",
    "            year_2016 = find_date['No. of confirmed, probable and suspected deaths'].sum()"
   ]
  },
  {
   "cell_type": "code",
   "execution_count": 17,
   "metadata": {},
   "outputs": [],
   "source": [
    "# Count the necessary values for the second question\n",
    "first_year = 0\n",
    "second_year = 0\n",
    "third_year = 0\n",
    "month = 0\n",
    "day = 0\n",
    "year = 0\n",
    "# Go through the ebola_db csv file and find number of Ebola cases\n",
    "for index, row in ebola_db.iterrows():\n",
    "    date = ebola_db['Date'][index]\n",
    "    date = re.split('[/-]', date)\n",
    "    new_year = int(date[0])\n",
    "    new_month = int(date[1])\n",
    "    new_day = int(date[2])\n",
    "    if year == 0:\n",
    "        year = new_year\n",
    "    if new_month > month:\n",
    "        month = new_month\n",
    "        day = new_day\n",
    "    if new_day > day:\n",
    "        day = new_day\n",
    "    if new_year > year:\n",
    "        # This is for the year 2014\n",
    "        if year == 2014:\n",
    "            str_year = str(year)\n",
    "            str_month = str(month)\n",
    "            str_day = str(day)\n",
    "            date = str_year + '-' +str_month +  '-' + str_day\n",
    "            find_date = ebola_db[ebola_db['Date'] == date]\n",
    "            first_year = find_date[find_date['Indicator'] == 'Cumulative number of confirmed, probable and suspected Ebola cases'].sum()\n",
    "            first_year = first_year['value']\n",
    "        # This is for the year 2015\n",
    "        if year == 2015:\n",
    "            str_year = str(year)\n",
    "            str_month = str(month)\n",
    "            str_day = str(day)\n",
    "            date = str_year + '-' +str_month +  '-' + str_day\n",
    "            find_date = ebola_db[ebola_db['Date'] == date]\n",
    "            second_year = find_date[find_date['Indicator'] == 'Cumulative number of confirmed, probable and suspected Ebola cases'].sum()\n",
    "            second_year = second_year['value']\n",
    "        year = new_year\n",
    "        month = new_month\n",
    "        day = new_day\n",
    "        # This is for the year 2016\n",
    "        if year == 2016:\n",
    "            str_year = str(year)\n",
    "            str_month = str(month)\n",
    "            str_day = str(day)\n",
    "            date = str_year + '-' + '03' +  '-' + str_day\n",
    "            find_date = ebola_db[ebola_db['Date'] == date]\n",
    "            third_year = find_date[find_date['Indicator'] == 'Cumulative number of confirmed, probable and suspected Ebola cases'].sum()\n",
    "            third_year = third_year['value']"
   ]
  },
  {
   "cell_type": "code",
   "execution_count": 18,
   "metadata": {},
   "outputs": [],
   "source": [
    "# Count the necessary values for the third question\n",
    "month = 0\n",
    "day = 0\n",
    "year = 0\n",
    "# Go through the ebola csv file and find number of Ebola cases and deaths for a country\n",
    "for index, row in ebola.iterrows():\n",
    "    date = ebola['Date'][index]\n",
    "    date = re.split('[/-]', date)\n",
    "    new_year = int(date[0])\n",
    "    new_month = int(date[1])\n",
    "    new_day = int(date[2])\n",
    "    if year == 0:\n",
    "        year = new_year\n",
    "    if new_month > month:\n",
    "        month = new_month\n",
    "        day = new_day\n",
    "    if new_day > day:\n",
    "        day = new_day\n",
    "    if new_year > year:\n",
    "        year = new_year\n",
    "        month = new_month\n",
    "        day = new_day\n",
    "        if year == 2016:\n",
    "            str_year = str(year)\n",
    "            str_month = str(month)\n",
    "            str_day = str(day)\n",
    "            date = str_year + '-' + '03' +  '-' + str_day\n",
    "            find_date = ebola[ebola['Date'] == date]\n",
    "            cases = []\n",
    "            deaths = []\n",
    "            countries = ['United Kingdom', 'Spain', 'Italy', 'Senegal', 'United States of America', 'Mali', 'Nigeria', 'Guinea', 'Sierra Leone', 'Liberia']\n",
    "            # Get the number of cases and deaths for each country\n",
    "            for x in countries:\n",
    "                country = find_date[find_date['Country'] == x]\n",
    "                cases_num = country['No. of confirmed, probable and suspected cases'].sum()\n",
    "                deaths_num = country['No. of confirmed, probable and suspected deaths'].sum()\n",
    "                cases.append(cases_num)\n",
    "                deaths.append(deaths_num)"
   ]
  },
  {
   "cell_type": "code",
   "execution_count": 19,
   "metadata": {},
   "outputs": [],
   "source": [
    "# This is to prepare the data for the bar charts\n",
    "bar_lower_cases = np.array(cases[0:7])\n",
    "bar_upper_cases = np.array(cases[7:10])\n",
    "bar_deaths = np.array(deaths[4:10])\n",
    "lower_cases_label = np.array(['UK', 'Spain', 'Italy', 'Senegal', 'USA', 'Mali', 'Nigeria'])\n",
    "upper_cases_label = np.array(['Guinea', 'Sierra Leone', 'Liberia'])\n",
    "deaths_label = np.array(['USA', 'Mali', 'Nigeria', 'Guinea', 'Sierra Leone', 'Liberia'])"
   ]
  },
  {
   "cell_type": "markdown",
   "metadata": {},
   "source": [
    "# 4. Analysis and Solutions"
   ]
  },
  {
   "cell_type": "markdown",
   "metadata": {},
   "source": [
    "### Question 1. What year had the highest percentage for suspected, probable, and confirmed Ebola deaths?"
   ]
  },
  {
   "cell_type": "markdown",
   "metadata": {},
   "source": [
    "#### Answer 1. 2016 had the highest percentage for suspected, probable, and confirmed Ebola deaths with a percentage of 37.06%."
   ]
  },
  {
   "cell_type": "code",
   "execution_count": 20,
   "metadata": {},
   "outputs": [
    {
     "data": {
      "image/png": "[encoded data removed]",
      "text/plain": [
       "<Figure size 432x288 with 1 Axes>"
      ]
     },
     "metadata": {},
     "output_type": "display_data"
    }
   ],
   "source": [
    "# This is to create a pie chart for the suspected, probable, and confirmed Ebola deaths for each year\n",
    "plt.pie([year_2014, year_2015, year_2016], explode = [0, 0.1, 0.1], colors = ['blue', 'red', 'yellow'], autopct = '%1.2f%%', shadow = True, labels = ['2014', '2015', '2016'])\n",
    "plt.axis('equal')\n",
    "plt.title('Suspected, Probable, and Confirmed Ebola Deaths from 2014 - 2016')\n",
    "plt.show()"
   ]
  },
  {
   "cell_type": "markdown",
   "metadata": {},
   "source": [
    "#### The above pie chart shows that the highest percentage of suspected, probable, and confirmed Ebola deaths happened in 2016. 25.88% of Ebola deaths occurred in 2014, 37.05% of Ebola deaths occurred in 2015, and 37.06% of Ebola deaths occurred in 2016. Most suspected, probable, and confirmed Ebola deaths occured in Africa from 2014 to 2016 with Africa having over 95% of Ebola deaths. "
   ]
  },
  {
   "cell_type": "markdown",
   "metadata": {},
   "source": [
    "### Question 2. What were the increases in suspected, probable, and confirmed Ebola cases?"
   ]
  },
  {
   "cell_type": "markdown",
   "metadata": {},
   "source": [
    "#### Answer 2. The number of Ebola cases increased from 20,205 cases to 28,637 cases from 2014 to 2015. The number of Ebola cases increased from 28,637 cases to 28,642 cases from 2015 to 2016."
   ]
  },
  {
   "cell_type": "code",
   "execution_count": 21,
   "metadata": {},
   "outputs": [
    {
     "data": {
      "image/png": "[encoded data removed]",
      "text/plain": [
       "<Figure size 432x288 with 1 Axes>"
      ]
     },
     "metadata": {
      "needs_background": "light"
     },
     "output_type": "display_data"
    }
   ],
   "source": [
    "# This is to create a line chart to show increases in Ebola cases for each year\n",
    "plt.plot(['2014', '2015', '2016'], [first_year, second_year, third_year], color = 'green', marker = 'o', linestyle = 'dashed')\n",
    "plt.gca().spines[\"top\"].set_alpha(0.0)\n",
    "plt.gca().spines[\"bottom\"].set_alpha(0.3)\n",
    "plt.gca().spines[\"right\"].set_alpha(0.0)\n",
    "plt.gca().spines[\"left\"].set_alpha(0.3)\n",
    "plt.grid(axis = 'both', alpha = 0.5)\n",
    "plt.ylabel('Number of Cases')\n",
    "plt.xlabel('Year')\n",
    "plt.title('Increases in Ebola Cases from 2014 - 2016')\n",
    "plt.tight_layout()\n",
    "plt.show()"
   ]
  },
  {
   "cell_type": "markdown",
   "metadata": {},
   "source": [
    "#### The above line chart shows the increases in suspected, probable, and confirmed Ebola cases. 2014 had a total of 20,205 Ebola cases, 2015 had a total of 28,637 Ebola cases, and 2016 had a total of 28,642 Ebola cases. 2015 had a 41.7% increase in Ebola cases from 2014 and 2016 had a 0.02% increase in Ebola cases from 2015. "
   ]
  },
  {
   "cell_type": "markdown",
   "metadata": {},
   "source": [
    "### Question 3. Which country had the highest number of Ebola cases and Ebola deaths?"
   ]
  },
  {
   "cell_type": "markdown",
   "metadata": {},
   "source": [
    "#### Answer 3. Sierra Leone had the highest number of Ebola cases with 14,122 Ebola cases and Liberia had the highest number of Ebola deaths with 4,813 Ebola deaths. "
   ]
  },
  {
   "cell_type": "code",
   "execution_count": 22,
   "metadata": {},
   "outputs": [
    {
     "data": {
      "image/png": "[encoded data removed]",
      "text/plain": [
       "<Figure size 432x288 with 1 Axes>"
      ]
     },
     "metadata": {
      "needs_background": "light"
     },
     "output_type": "display_data"
    }
   ],
   "source": [
    "# This is to create a bar chart with the lower number of Ebola cases for each country\n",
    "plt.bar(lower_cases_label, bar_lower_cases, color = ['pink', 'red', 'green', 'yellow', 'orange', 'purple', 'blue'])\n",
    "plt.ylabel('Number of Cases')\n",
    "plt.xlabel('Country')\n",
    "plt.title('Total Number of Ebola Cases for Each Country')\n",
    "plt.grid(axis = 'both', alpha = 0.5)\n",
    "plt.tight_layout()\n",
    "plt.show()"
   ]
  },
  {
   "cell_type": "markdown",
   "metadata": {},
   "source": [
    "#### The above bar chart shows that Nigeria had the highest number of Ebola cases among the lower number of Ebola cases for each country with 20 Ebola cases. The UK, Spain, Italy, and Senegal each had the lowest number of Ebola cases with 1. The USA had 4 Ebola cases and Mali had 8 Ebola cases. "
   ]
  },
  {
   "cell_type": "code",
   "execution_count": 23,
   "metadata": {},
   "outputs": [
    {
     "data": {
      "image/png": "[encoded data removed]",
      "text/plain": [
       "<Figure size 432x288 with 1 Axes>"
      ]
     },
     "metadata": {
      "needs_background": "light"
     },
     "output_type": "display_data"
    }
   ],
   "source": [
    "# This is to create a bar chart with the higher number of Ebola cases for each country\n",
    "plt.bar(upper_cases_label, bar_upper_cases, color = ['blue', 'red', 'gray'])\n",
    "plt.ylabel('Number of Cases')\n",
    "plt.xlabel('Country')\n",
    "plt.title('Total Number of Ebola Cases for Each Country')\n",
    "plt.grid(axis = 'both', alpha = 0.5)\n",
    "plt.tight_layout()\n",
    "plt.show()"
   ]
  },
  {
   "cell_type": "markdown",
   "metadata": {},
   "source": [
    "#### The above bar chart shows that Sierra Leone had the highest number of Ebola cases for each country with 14,122 Ebola cases. Guinea had 3,804 Ebola cases and Liberia had 10,680 Ebola cases. Sierra Leone had 49.3% of the total number of Ebola cases, Liberia had 37.29% of the total number of Ebola cases, and Guinea had 13.28% of the total number of Ebola cases for each country. "
   ]
  },
  {
   "cell_type": "code",
   "execution_count": 24,
   "metadata": {},
   "outputs": [
    {
     "data": {
      "image/png": "[encoded data removed]",
      "text/plain": [
       "<Figure size 432x288 with 1 Axes>"
      ]
     },
     "metadata": {
      "needs_background": "light"
     },
     "output_type": "display_data"
    }
   ],
   "source": [
    "# This is to create a bar chart with the number of Ebola deaths for each country\n",
    "plt.bar(deaths_label, bar_deaths, color = ['brown', 'gray', 'black', 'purple', 'red', 'orange'])\n",
    "plt.ylabel('Number of Deaths')\n",
    "plt.xlabel('Country')\n",
    "plt.title('Total Number of Ebola Deaths for Each Country')\n",
    "plt.grid(axis = 'both', alpha = 0.5)\n",
    "plt.tight_layout()\n",
    "plt.show()"
   ]
  },
  {
   "cell_type": "markdown",
   "metadata": {},
   "source": [
    "#### The above bar chart shows that Liberia had the highest number of Ebola deaths for each country with 4,813 Ebola deaths. Sierra Leone had 3,955 Ebola deaths, Guinea had 2,536 Ebola deaths, Nigeria had 8 Ebola deaths, Mali had 6 Ebola deaths, and the USA had 1 Ebola death. The UK, Spain, Italy, and Senegal did not have any Ebola deaths. Liberia had 42.52% of the total number of Ebola deaths, Sierra Leone had 34.94% of the total number of Ebola deaths, and Guinea had 22.4% of the total number of Ebola deaths for each country. "
   ]
  }
 ],
 "metadata": {
  "kernelspec": {
   "display_name": "Python 3",
   "language": "python",
   "name": "python3"
  },
  "language_info": {
   "codemirror_mode": {
    "name": "ipython",
    "version": 3
   },
   "file_extension": ".py",
   "mimetype": "text/x-python",
   "name": "python",
   "nbconvert_exporter": "python",
   "pygments_lexer": "ipython3",
   "version": "3.7.5"
  }
 },
 "nbformat": 4,
 "nbformat_minor": 4
}
